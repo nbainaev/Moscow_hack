{
  "cells": [
    {
      "cell_type": "code",
      "execution_count": 14,
      "metadata": {
        "colab": {
          "base_uri": "https://localhost:8080/"
        },
        "id": "LmHWvcs70shX",
        "outputId": "4c74a091-6e1f-4595-ac08-ea794cf9b7bf"
      },
      "outputs": [
        {
          "name": "stdout",
          "output_type": "stream",
          "text": [
            "Collecting random-word\n",
            "  Downloading Random_Word-1.0.11-py3-none-any.whl (1.2 MB)\n",
            "\u001b[2K     \u001b[90m━━━━━━━━━━━━━━━━━━━━━━━━━━━━━━━━━━━━━━━━\u001b[0m \u001b[32m1.2/1.2 MB\u001b[0m \u001b[31m11.2 MB/s\u001b[0m eta \u001b[36m0:00:00\u001b[0m\n",
            "\u001b[?25hRequirement already satisfied: requests in /usr/local/lib/python3.10/dist-packages (from random-word) (2.31.0)\n",
            "Requirement already satisfied: pytest in /usr/local/lib/python3.10/dist-packages (from random-word) (7.4.4)\n",
            "Requirement already satisfied: pyyaml in /usr/local/lib/python3.10/dist-packages (from random-word) (6.0.1)\n",
            "Requirement already satisfied: iniconfig in /usr/local/lib/python3.10/dist-packages (from pytest->random-word) (2.0.0)\n",
            "Requirement already satisfied: packaging in /usr/local/lib/python3.10/dist-packages (from pytest->random-word) (24.1)\n",
            "Requirement already satisfied: pluggy<2.0,>=0.12 in /usr/local/lib/python3.10/dist-packages (from pytest->random-word) (1.5.0)\n",
            "Requirement already satisfied: exceptiongroup>=1.0.0rc8 in /usr/local/lib/python3.10/dist-packages (from pytest->random-word) (1.2.1)\n",
            "Requirement already satisfied: tomli>=1.0.0 in /usr/local/lib/python3.10/dist-packages (from pytest->random-word) (2.0.1)\n",
            "Requirement already satisfied: charset-normalizer<4,>=2 in /usr/local/lib/python3.10/dist-packages (from requests->random-word) (3.3.2)\n",
            "Requirement already satisfied: idna<4,>=2.5 in /usr/local/lib/python3.10/dist-packages (from requests->random-word) (3.7)\n",
            "Requirement already satisfied: urllib3<3,>=1.21.1 in /usr/local/lib/python3.10/dist-packages (from requests->random-word) (2.0.7)\n",
            "Requirement already satisfied: certifi>=2017.4.17 in /usr/local/lib/python3.10/dist-packages (from requests->random-word) (2024.6.2)\n",
            "Installing collected packages: random-word\n",
            "Successfully installed random-word-1.0.11\n"
          ]
        }
      ],
      "source": [
        "!pip install random-word"
      ]
    },
    {
      "cell_type": "code",
      "execution_count": 265,
      "metadata": {
        "id": "cOIqL5QPR2dj"
      },
      "outputs": [],
      "source": [
        "import random\n",
        "def get_randomize_string(string, num_chars):\n",
        "    for _ in range(num_chars):\n",
        "        index = random.randint(0, len(string) - 1)\n",
        "        string = string.replace(string[index], \"\")\n",
        "    return string\n",
        "\n",
        "def generate_combinations(lists, current_combination, index, result, list_orig, triger, label):\n",
        "    if index == len(lists):\n",
        "        count = 0\n",
        "        target = 0\n",
        "        comb_str = ' '.join(current_combination.copy())\n",
        "        for item in list_orig:\n",
        "            if item in comb_str:\n",
        "                count += 1\n",
        "                if count > triger:\n",
        "                    target = label\n",
        "                    break\n",
        "        current_combination_buf = \"\"\n",
        "        for item in current_combination:\n",
        "            chance = random.randint(0, 3) - 1\n",
        "            if chance == -1:\n",
        "                chance = 0\n",
        "            string_changed = get_randomize_string(item, chance)\n",
        "            current_combination_buf += \" \" + string_changed\n",
        "        result.append((current_combination_buf, target))\n",
        "        return\n",
        "\n",
        "    for word in lists[index]:\n",
        "        current_combination.append(word)\n",
        "        generate_combinations(lists, current_combination, index + 1, result, list_orig, triger, label)\n",
        "        current_combination.pop()\n",
        "\n",
        "# Функция для перебора комбинаций слов из разных списков\n",
        "def all_combinations(lists, list_orig, triger, label):\n",
        "    result = []\n",
        "    generate_combinations(lists, [], 0, result, list_orig, triger, label)\n",
        "    return result"
      ]
    },
    {
      "cell_type": "code",
      "execution_count": 266,
      "metadata": {
        "id": "5nOO2uZCglJo"
      },
      "outputs": [],
      "source": [
        "# чтение данных\n",
        "import pandas as pd\n",
        "\n",
        "df = pd.read_csv(\"output.csv\")\n",
        "\n",
        "import csv\n",
        "lists_buf = []\n",
        "with open(\"output.csv\", \"r\") as f:\n",
        "    reader = csv.reader(f, delimiter=\",\")\n",
        "    for line in reader:\n",
        "        if \"\" in line:\n",
        "            index = line.index('')\n",
        "            lists_buf.append(line[:index])\n",
        "        else:\n",
        "            lists_buf.append(line)\n",
        "\n",
        "lists_person = []\n",
        "with open(\"output.csv\", \"r\") as f:\n",
        "    reader = csv.reader(f, delimiter=\",\")\n",
        "    for line in reader:\n",
        "        lists_person.append(line)\n",
        "\n",
        "list_orig_person = []\n",
        "for item in lists_buf:\n",
        "    list_orig_person += item"
      ]
    },
    {
      "cell_type": "code",
      "execution_count": 267,
      "metadata": {
        "id": "0-djKLOeiGjY"
      },
      "outputs": [],
      "source": [
        "# Создание шаблонных примеров заголовков\n",
        "list_orig_fin = [\"pay\", \"check\", \"bill\", \"credit\", \"dept\",\"series\", \"seria\", \"obligation\", \"sum\"]\n",
        "list_orig_bio = [\"finger\", \"eye\", \"snapshot\", \"photo\"]\n",
        "lists_fin = [\n",
        "    [\"pay\", \"payment\", \"check\", \"bill\", \"sum\", \"\", \"\"],\n",
        "    [\"credit\", \"dept\", \"obligation\", \"\", \"\", \"\", \"\", \"\"],\n",
        "    [\"seria\", \"series\", \"\", \"\", \"\", \"\", \"\", \"\"],\n",
        "]\n",
        "lists_bio = [\n",
        "    [\"finger\", \"fingerprint\", \"\", \"\", \"\", \"\"],\n",
        "    [\"eye\", \"eyeprint\", \"\", \"\", \"\", \"\"],\n",
        "    [\"photo\", \"snapshot\", \"\", \"\", \"\", \"\"],\n",
        "]\n",
        "\n",
        "all_lists = [lists_person, lists_fin, lists_bio]\n",
        "all_origs = [list_orig_person, list_orig_fin, list_orig_bio]"
      ]
    },
    {
      "cell_type": "code",
      "execution_count": 268,
      "metadata": {
        "id": "AVoRwyupK66g"
      },
      "outputs": [],
      "source": [
        "# Заполнение пропусков случайными словами\n",
        "from random_word import RandomWords\n",
        "r = RandomWords()\n",
        "\n",
        "\n",
        "for i in range(len(all_lists)):\n",
        "    for j in range(len(all_lists[i])):\n",
        "        for k in range(len(all_lists[i][j])):\n",
        "            if all_lists[i][j][k] == '':\n",
        "                all_lists[i][j][k] = r.get_random_word()"
      ]
    },
    {
      "cell_type": "code",
      "execution_count": 269,
      "metadata": {
        "collapsed": true,
        "id": "Zt4dfSNTa73r"
      },
      "outputs": [],
      "source": [
        "# Построение датасета на основе комбинаций из шаблона\n",
        "data = []\n",
        "for i in range(len(all_lists)):\n",
        "    data_ = []\n",
        "    if i == 0:\n",
        "        len_ = 5\n",
        "    else:\n",
        "        len_ = len(all_lists[i])\n",
        "    for j in range(1, len_):\n",
        "        handler = all_lists[i][:j]\n",
        "        for l in all_lists[i][j:]:\n",
        "            data_.append(all_combinations(handler + [l], all_origs[i], triger=2-i, label=i+1))\n",
        "\n",
        "    data_buf = []\n",
        "    for item in all_origs[i]:\n",
        "        label = i + 1 if i else 0\n",
        "        data_buf.append((item, i+1))\n",
        "    data += [data_buf] + data_"
      ]
    },
    {
      "cell_type": "code",
      "execution_count": 270,
      "metadata": {
        "id": "MqazoxeANet3"
      },
      "outputs": [],
      "source": [
        "# Преобразование в удобный для записи в файл вид\n",
        "data_ = []\n",
        "for item in data:\n",
        "    data_ += item"
      ]
    },
    {
      "cell_type": "code",
      "execution_count": 273,
      "metadata": {
        "id": "r9bqVWqBU0Cp"
      },
      "outputs": [],
      "source": [
        "# Запись в csv файл датасета\n",
        "with open(\"data.csv\", \"w\") as f:\n",
        "    writer = csv.writer(f, delimiter=';')\n",
        "    for row in data_:\n",
        "        writer.writerow(row[0] + \",\" + str(row[1]))"
      ]
    }
  ],
  "metadata": {
    "colab": {
      "provenance": []
    },
    "kernelspec": {
      "display_name": "Python 3",
      "name": "python3"
    },
    "language_info": {
      "name": "python"
    }
  },
  "nbformat": 4,
  "nbformat_minor": 0
}
